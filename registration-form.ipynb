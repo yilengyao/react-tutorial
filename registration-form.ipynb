{
 "cells": [
  {
   "cell_type": "code",
   "execution_count": null,
   "id": "a9d99b3d-ff88-40f4-b459-d8f3f95d16ee",
   "metadata": {},
   "outputs": [],
   "source": [
    "npx create-react-app react_login"
   ]
  },
  {
   "cell_type": "markdown",
   "id": "eeaf8c11-81e9-4e45-9bac-fe411297a544",
   "metadata": {},
   "source": [
    "```\n",
    "import { useRef } from 'react';\n",
    "```\n",
    "\n",
    "what does useref do?\n",
    "useRef is a builtin react hook that allows you to create a ref to a dom element"
   ]
  }
 ],
 "metadata": {
  "kernelspec": {
   "display_name": "Python 3 (ipykernel)",
   "language": "python",
   "name": "python3"
  },
  "language_info": {
   "codemirror_mode": {
    "name": "ipython",
    "version": 3
   },
   "file_extension": ".py",
   "mimetype": "text/x-python",
   "name": "python",
   "nbconvert_exporter": "python",
   "pygments_lexer": "ipython3",
   "version": "3.12.2"
  }
 },
 "nbformat": 4,
 "nbformat_minor": 5
}
