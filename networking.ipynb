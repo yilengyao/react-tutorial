{
 "cells": [
  {
   "cell_type": "markdown",
   "id": "491f4440-db3f-4d78-a198-3d1d67078a9a",
   "metadata": {},
   "source": [
    "# HTTP response status condes\n",
    "\n",
    "## Informational Responses (100 - 199)\n",
    "- 100 Continue: This interim reponse indicates tht the client should continue the request or ignore the response if the request is already finished.\n",
    "- 101 Switching Protocols: This code is sent in response to an Upgrade request header from the client and indicates the protocol the server is switching to\n",
    "- 102 Processing: This code indicates that the server has received and is processing the request, but no response is available yet\n",
    "- 103 Early Hints: This status code is primary intended to be sued with the Link heder, letting the user agent start preloading resources while the server prepares a response or preconnect to an origin from which the page will need resources"
   ]
  },
  {
   "cell_type": "markdown",
   "id": "f0153253-21d4-4d86-899f-3b99d4389111",
   "metadata": {},
   "source": [
    "## Successful Responses (200-299)\n",
    "- 200 OK: The request succeeded. The result meaning of \"success\" depends on the HTTP method:\n",
    "- - GET: The resource has been fetched and trabnsmitted in the message body\n",
    "- - HEAD: The representation headers are included in the response without any message body\n",
    "- - PUT or POST: The resource describing the result of the action is transmitted in the messsage body\n",
    "- - TRACE: The message body contains the request message as received by the server\n",
    " \n",
    "- 201 Created: The request succeeded, and a new resource was created as a result. This is typically the response sent after `POST` requests, or some `PUT` requests.\n",
    "- 202 Accepted: The request has been received but not yet acted upon. It is noncommittal, since there is no way in HTTP to later send an asynchronous response indicating the outcome of thr request. It is intended for cases where another process or server handles the request, or for batch processing\n",
    "- 203 Non-Authoritative Information: This response code means the returned metadata is not exactly the same as is available from the origin server, but is collected from a local or third-party copy. This is mostly used for mirrors and backups of another resource. Except for the specific case, the `200 OK` response is preferred to this status\n",
    "- 204 No Content: There is no content to send for this request, but the headers may be userful. The user agent may update its cached headers for this resource with the new ones\n",
    "- 205 Reset Content: Tells the user agent to reset the document which sent this request\n",
    "- 206 Partial Content: This response code is used when the Range header is sent from the client to request only part of a resource\n",
    "- 207 Multi-Status: Conveys information about multiple resources, for situations where multiple status codes might be appropriate\n",
    "- 208 Already Reported: Used inside a `<dav:propstat>` response element to avoid repeatedly enumerating the internal members of multiple bindings to the same collection\n",
    "- 226 IM Used: The server has fullfilled a `GET` request for the resource, and the response is a representation of the result of one or more instance manipulation applied to the current instance"
   ]
  },
  {
   "cell_type": "markdown",
   "id": "fe455a30-4f0b-4bee-b5c6-6d33debbf068",
   "metadata": {},
   "source": [
    "## Redirect messages (300-399)\n",
    "- 300 Multiple Choices: The request has more than one possible response. The user agent or user should choose one of them. (There is no standardized way of choosing one of the responses, but HTML links to the possiblilites are recommended so the user can pick.)\n",
    "- 301 Moved Prmanently: The URL of the request resource has been changed permanently. The new URL is given in the response\n",
    "- 302 Found: This response code means that the URI of requested resource has been changed temporarily. Further changes in the URI might be made in the future. Therefore, this same URI should be used by the client in future requests\n",
    "- 303 See Other: The server sent this response to direct the client to get the requested resource at another URI with a GET request\n",
    "- 304 Not Modified: This is used for caching purposes. It tells the client that the response has not been modified, so the client can continue to use the same cached version of the response\n",
    "- 305 Use Proxy: Defined in a previous version of HTTP specification to indicate that a requested response must be accessed by a proxy. It has been deprecated due to security concerns regarding in-band configuration of a proxy\n",
    "- 306 unused: this response code is no longer used; it is just reserved. it was used in perevious version of HTTP/1.1 specification\n",
    "- 307 Temporary Redirect: The server sends this response to direct the client to get the requested resources at another URI with the same method taht was used in the prior request. This has the same semantics as the `302 Found` HTTP response code, with the exception that the user agent must not change the HTTP method used: if a `POST` was used in the first request, a `POST` must be used in the second request\n",
    "- 308 Permanent Redirect: This means tht the resouce is now permanently located at another URI, specified by the `Location:` HTTP Response Header. This has the same semantics as the `301 Move Permantently` HTTP response code, with the exception thath te user agent must not change the HTTP method used: if a`POST` was used in the first request, a `POST` must be used in the second request"
   ]
  },
  {
   "cell_type": "markdown",
   "id": "c5e15919-7d24-4d55-a4f7-1ce0e85bda1d",
   "metadata": {},
   "source": [
    "## Client Error Responses (400-499)\n",
    "- 400 Bad Request: The server cannot or will not process the request due to somethin that is preceived to be a client error (e.g., malformed request syntax, invalid request message framing, or deceptive request routing)\n",
    "- 401 Unauthorized: Althought the HTTP standard specifies \"unauthorized\", semantically this response means \"unauthenticated\". This is, the client must authenticate itself to get the requested response\n",
    "- 402 Payment Required: This response code is reserved for future use. The initial aim for creating this code was using it for digital payment systems, however this status code is used very rarely and no standard convention exists\n",
    "- 403 Forbidden: The client does not have access right to the content; that is, it is unauthorized, so the server is refusing to give the requested resource. Unlike `401 Unauthorized`, the client's identity is known to the server\n",
    "- 404 Not Found: The server cannot find the requested resource. In the browser, this means the URL is not recognized. In an API, this can also mean that the endpoint is valid but the resource itself does not exist. Servers may also send this response instead of `403 Forbidden` to hide the existence of a resource from an unauthorized client. This response code is probably the most well known due to its frequent occurrence on the web.\n",
    "- 405 Method Not Allowed: The request is known by ther server but is not supported by the target resource. For example, an API may not allow calling `DELETE` to remove a resource\n",
    "- 406 Not Acceptable: This response is sent when the web server, after performing server-driven content negotiation, doesn't find any content that conforms to the criteria given by the user agent\n",
    "- 407 Proxy Authentication Required: This is similar to `401 Unauthorized` but authentication is needed to be done by a proxy\n",
    "- 408 Request Timeout: This response is sent to an idle connection by some servers, even without any previous request by the client. It means that the server would like to shut down this unused connection. This response is used much more since some browsers, like Chrome, Firefox IE, use HTTP pre-connection mechanisms to speed up surfing. Also note that some servers merely shut down the connection without sending this message.\n",
    "- 409 Conflict: This response is sent when a request conflicts with the current state of the server.\n",
    "- 410 Gone: This response is sent when the requested content has been permanently deleted from server, with no forwarding address. Clients are expected to remove their caches and links to the resource. The HTTP specification intends this status code to be used for \"limited-time, promotional services\". APIs should not feel compelled to indicate resources that have been deleted with this status code.\n",
    "- 411 Length Required: Server rejected the request because the `Content-Length` header field is not defined and the server requires it\n",
    "- 412 Precondition Failed: The client has indicated preconditions in its headers which the server does not meet.\n",
    "- 413 Payload Too Large: Requested entity is larger than limits defined by server. The server might close the connection or return an `Retry-After` header field\n",
    "- 414 URI Too Long: The URI requested by the client is longer than the server is willing to interpret\n",
    "- 415 Unsupported Media Type: The media format of the requested data is not supported by the server, so the server is rejecting the request\n",
    "- 416 Range Not Satisfiable: The range specified by the `Range` header field in the request cannot be fulfilled. It's possible that the range is outside the size of the target URL's data\n",
    "- 417 Expectation Failed: This response code means the expectation indicated by the `Expected` request header field cannot be met by the server\n",
    "- 418 I'm a teapot: The server refuses the attempt to brew coffee with a teapot\n",
    "- 421 Misdirected Request: The request was redirected at a server that is not able to produce a response. This can be sent by a server that is not configured to produce responses for the combination of scheme and authority that are included in the request URI\n",
    "- 422 Unprocessable Content: The request was well-formed but was unable to be followed due to semantic errors\n",
    "- 423 Locked: The resource that is being acessed is locked\n",
    "- 424 Failed Dependency: The request failed due to failure of a previous request\n",
    "- 425 Too Early: Indicates that the server is unwilling to risk processing a request that might be replayed\n",
    "- 426 Upgrade Required: The server refuses to perform the request using the current protocol but might be willing to do so after the client upgrades to a different protocol. The server sends an Upgrade header in a 426 response to indicate the required protocol\n",
    "- 428 Precondition Required: The origin server requires the request to be conditional. This response is intended to prevent the 'lost update' problem, where the client `GET`s a resource's state, modifieds it and `PUT`s it back to the server, when meanwhile a thrid party ahs modified the state on the server, leading to a conflict\n",
    "- 429 Too Many Requests: The suer has sent too many requests in a given amount of time (\"rate limiting\")\n",
    "- 431 Request Header Fields Too Large: The server is unwilling to process the request because its header fields are too large. The request may be resubmitted after reducing the size of the request header fields\n",
    "- 451 Unable For Legal Reasons: The user agent requested a resource that cannot legally be provided, such as a web page censored by a govenment"
   ]
  },
  {
   "cell_type": "markdown",
   "id": "5648399a-a5cc-4bff-9d3e-65b009bda137",
   "metadata": {},
   "source": [
    "## Server Error Responses (500-599)\n",
    "- 500 Internal Server Error: The server has encountered a situation it does not know how to handle\n",
    "- 501 Not Implemented: The request method is not supported by the server and cannot be handled. The only methods that servers are required to support (and therefore that must not return this code) are `GET` and `HEAD`\n",
    "- 502 Bad Gateway: This error response means that hte server, while working as a gateway to get a response needed to handle the request, got an invalid response\n",
    "- 503 Service Unavailable: The server is not ready to handle the request. Common causes are a server that is down for maintenance or that is overloaded. Note that together with this response, a user-friendly page explaining the problem should be sent. This response should be used for temporary conditions and the `Retry-After` HTTP header should, if possible, contain the estimated time before the recovery of the service. The webmaster must also take care about the caching-related headers that are sent along with this response, as these temporary condition responses should usually not be cached\n",
    "- 504 Gateway Timeout: This error response is given when the server is acting as a gateway and cannot get a response in time\n",
    "- 505 HTTP Version Not Supported: The HTTP version used in the request is not supported by the server\n",
    "- 506 Variant Also Negotiates: The server has an internal configuration error: the chosen variant resource is configured to engage in transparent content negotiation itself, and is therefore not a proper end point in the negotiation process\n",
    "- 507 Insufficient Storage: The method could not be performed on the resource because the server is unable to store the representation needed to successfully complete the request\n",
    "- 508 Loop Detected: The server detected an infinite loop while processing the request\n",
    "- 510 Not Extended: Further extensions to the request are required for the server to fulfill it\n",
    "- 511 Network Authentication required: Indicates that the client needs to authenticate to gain network access"
   ]
  },
  {
   "cell_type": "markdown",
   "id": "7bf3ed48-3623-4719-ba4f-2f250bf4ad55",
   "metadata": {},
   "source": [
    "# npm cookie-parser\n",
    "`cookie-parser` is a middleware for Node.js that helps you parse cookies attached to the client request object. It's commonly used in Express, a web application framework for Node.js. \n",
    "\n",
    "Key Features\n",
    "1. Parsing Cookies: Automatically parse cookies from the `Cookie` Header on the request and populates `req.cookies` with an object keyed by the cookie names\n",
    "2. Signed Cookies Support: It can also parse signed cookies (cookies that have been signed with a secret to prevent tampering), provided you pass the secret as an argument\n",
    "\n",
    "Basic Usage \n",
    "1. Installation\n",
    "```\n",
    "npm install cookie-parser\n",
    "```\n",
    "2. Integration with Express\n",
    "```\n",
    "const express = require('express');\n",
    "const cookieParser = require('cookie-parser`);\n",
    "\n",
    "const app = express();\n",
    "\n",
    "// Using cookie-parser with the secret for signed cookies\n",
    "app.use(cookieParser('your-secret-key'));\n",
    "\n",
    "app.get('/'. (req, res) => {\n",
    "    // Accessing cookies\n",
    "    console.log('cookies: ', req.cookies);\n",
    "    console.log('Signed Cookies: ', req.signedCookies);\n",
    "\n",
    "    // rest of your route logic\n",
    "});\n",
    "\n",
    "app.listen(3000, () => {\n",
    "    console.log('Server is running on port 3000');\n",
    "});\n",
    "```\n",
    "\n",
    "Best Practice and Consideratiohns\n",
    "- Secret Key: If you are using signed cookies, keep the secret key secure and avoid hardcoding it in your source code\n",
    "- Security: While cookies are widely used, be aware of security implications, such as Cross-Site Scripting (XSS) attacks and Cross-Site Request Forgery (CSRF) attacks. Proper handling and sanitization of cookies are crucial\n",
    "- User in Middleware: `cookie-parser` can be used as middleware in your Express application, making cookie data available in all your routes\n",
    "- Cookie Management: Remember that `cookie-parser` is for parsing cookies; it does not provide functionality to set or delete cookes. You will use the standard Express `res.cookie()` and `res.clearCookies()` method for that."
   ]
  },
  {
   "cell_type": "code",
   "execution_count": null,
   "id": "740d678e-8e31-41f4-8556-b72dbfe01d18",
   "metadata": {},
   "outputs": [],
   "source": []
  }
 ],
 "metadata": {
  "kernelspec": {
   "display_name": "Python 3 (ipykernel)",
   "language": "python",
   "name": "python3"
  },
  "language_info": {
   "codemirror_mode": {
    "name": "ipython",
    "version": 3
   },
   "file_extension": ".py",
   "mimetype": "text/x-python",
   "name": "python",
   "nbconvert_exporter": "python",
   "pygments_lexer": "ipython3",
   "version": "3.9.6"
  }
 },
 "nbformat": 4,
 "nbformat_minor": 5
}
