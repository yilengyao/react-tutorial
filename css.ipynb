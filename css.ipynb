{
 "cells": [
  {
   "cell_type": "markdown",
   "id": "8a0e62f5-53e1-462c-a0e1-d04c19448e23",
   "metadata": {},
   "source": [
    "# css reset\n",
    "A CSS reset is a set of styles applied to web elements to neutralize default browser styles, ensuring a consistent look across different browsers. It removes browser-specific styling to provide a clean slate for custom styling.\n",
    "```\n",
    "* {\n",
    "    margin: 0;\n",
    "    padding: 0;\n",
    "    box-sizing: content-box;\n",
    "}\n",
    "```"
   ]
  },
  {
   "cell_type": "code",
   "execution_count": null,
   "id": "b7f835ad-b7b6-4f1a-8dab-de187d6c7348",
   "metadata": {},
   "outputs": [],
   "source": []
  }
 ],
 "metadata": {
  "kernelspec": {
   "display_name": "Python 3",
   "language": "python",
   "name": "python3"
  },
  "language_info": {
   "codemirror_mode": {
    "name": "ipython",
    "version": 3
   },
   "file_extension": ".py",
   "mimetype": "text/x-python",
   "name": "python",
   "nbconvert_exporter": "python",
   "pygments_lexer": "ipython3",
   "version": "3.6.9"
  }
 },
 "nbformat": 4,
 "nbformat_minor": 5
}
