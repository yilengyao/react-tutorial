{
 "cells": [
  {
   "cell_type": "markdown",
   "id": "eb335dbb-0043-4a0b-a3b3-3debeef0295c",
   "metadata": {},
   "source": [
    "need node installed\n",
    "\n",
    "install chrom extention react developer tools https://chrome.google.com/webstore/detail/react-developer-tools/fmkadmapgofadopljbjfkapdkoienihi\n",
    "\n",
    "on running react instance, select react dev tools, on webpage right click to inspect, go to components"
   ]
  },
  {
   "cell_type": "markdown",
   "id": "14d9be1f-3146-4124-a8e2-10bb16db5ad2",
   "metadata": {},
   "source": [
    "To create react project\""
   ]
  },
  {
   "cell_type": "code",
   "execution_count": null,
   "id": "8df0d43d-c539-4044-89f6-b3f616a8ac00",
   "metadata": {},
   "outputs": [],
   "source": [
    "%%bash\n",
    "npx create-react-app <project name>"
   ]
  },
  {
   "cell_type": "markdown",
   "id": "c04b67c0-5dd2-44b7-b4e5-c9f311776c05",
   "metadata": {},
   "source": [
    "Start app"
   ]
  },
  {
   "cell_type": "code",
   "execution_count": null,
   "id": "b368845e-36ca-4e67-8bbc-d092f0faa430",
   "metadata": {},
   "outputs": [],
   "source": [
    "%%bash\n",
    "npm start"
   ]
  },
  {
   "cell_type": "markdown",
   "id": "4e80bc98-4de6-4fba-ac29-72659dbfcdde",
   "metadata": {},
   "source": [
    "Launch Json server"
   ]
  },
  {
   "cell_type": "code",
   "execution_count": null,
   "id": "df8dc67d-797c-4a1a-a552-76b90c291ecd",
   "metadata": {},
   "outputs": [],
   "source": [
    "%%bash\n",
    "npx json-server -p 3500 -w data/db.json #will launch it instead of using npm"
   ]
  },
  {
   "cell_type": "markdown",
   "id": "375bb67d-c566-434c-9dc2-0c945db64b44",
   "metadata": {},
   "source": [
    "install react icons"
   ]
  },
  {
   "cell_type": "code",
   "execution_count": null,
   "id": "e36d11b9-9e5a-45a4-b123-d27b805ffd45",
   "metadata": {},
   "outputs": [],
   "source": [
    "%%bash\n",
    "npm i react-icons"
   ]
  },
  {
   "cell_type": "markdown",
   "id": "e4c33f80-0905-4d79-bce7-85ea6e2f2eaa",
   "metadata": {},
   "source": [
    "Install redux toolkit"
   ]
  },
  {
   "cell_type": "code",
   "execution_count": null,
   "id": "618c4b55-15f0-41e8-accf-5167d7156a69",
   "metadata": {},
   "outputs": [],
   "source": [
    "%%bash\n",
    "npm i @reduxjs/toolkit react-redux"
   ]
  },
  {
   "cell_type": "markdown",
   "id": "3c0ad278-4abd-4574-bff6-156720b78f44",
   "metadata": {},
   "source": [
    "Install date fnx"
   ]
  },
  {
   "cell_type": "code",
   "execution_count": null,
   "id": "1504093f-1842-4a31-a87f-7f988b5a6e6f",
   "metadata": {},
   "outputs": [],
   "source": [
    "%%bash\n",
    "npm i date-fns"
   ]
  },
  {
   "cell_type": "markdown",
   "id": "90b02948-bb0a-4bf3-9063-f0e94d416dee",
   "metadata": {},
   "source": [
    "install react router"
   ]
  },
  {
   "cell_type": "code",
   "execution_count": null,
   "id": "3f90462e-47f7-4780-aeda-800df84063fb",
   "metadata": {},
   "outputs": [],
   "source": [
    "%%bash\n",
    "npm i react-router-dom"
   ]
  }
 ],
 "metadata": {
  "kernelspec": {
   "display_name": "Python 3",
   "language": "python",
   "name": "python3"
  },
  "language_info": {
   "codemirror_mode": {
    "name": "ipython",
    "version": 3
   },
   "file_extension": ".py",
   "mimetype": "text/x-python",
   "name": "python",
   "nbconvert_exporter": "python",
   "pygments_lexer": "ipython3",
   "version": "3.6.9"
  }
 },
 "nbformat": 4,
 "nbformat_minor": 5
}
