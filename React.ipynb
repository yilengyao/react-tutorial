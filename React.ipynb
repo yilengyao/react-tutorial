{
 "cells": [
  {
   "cell_type": "markdown",
   "id": "632e9cfe-2fab-4095-b498-c59ea961f2f1",
   "metadata": {},
   "source": [
    "# React\n",
    "React is a library to build user interfaces in a declarative and component-driven way.\n",
    "React is a declarative, component-based library for building user interfaces that works on a variety of platforms: web, native movile, server, desktop ...\n",
    "\n",
    "React's core purpose is to be a minimal library rathe than a full-fledged framework. It focuses specifically on building user interfaces (UI). By doing this, React provides flexibility for developers to integrate othe libraries and tools for handling aspects like state management (e.g., Redux or Zustand), rounting (e.g., React Router), or server-side rendering (e.g., Next.js).\n",
    "\n",
    "This minimal approach gives React an advantage: it does one thing well (UI rendering and state updates) and allows developers to choose the best tools to solve other problems depending on the project requirements).\n",
    "\n",
    "\n",
    "React's mental model draws on functional and object orientated programming concepts and focuses on components as primary units for building with. In React applications, you create interfaces from components. React's rendering system manages these components and keeps the application view in sync for you. Components often correspond to aspects of the user interface like datepickers, headers, navbars, and others, but they can also take responsibility for things like clinet-side routing, data formatting, sytling and other responsibilities of a client-side application.\n",
    "\n",
    "Components in React should be easy to think about and integrate with other React components; they follow a predictable lifecycle can maintain their own internal state, and work with \"regular old JavaScript.\""
   ]
  },
  {
   "cell_type": "markdown",
   "id": "a8d5e39b-290b-4044-96cc-95a13e96582b",
   "metadata": {},
   "source": [
    "- Components: Encapsulated units of functionality that are the primary unit of React. They utilize data (properties and state) to render your UI as output. Certain types of React components also provide a set of lifecycle methods that you can hook into. The rendering process (outputing and updating a UI based on oyoru data) is predictable in React, and your components can hook into it using React's APIs.\n",
    "- React libraries: React uses a set of core libraries. The core React library works with the `react-dom` and `react-native` libraries and is focused on component specific and definition. It allows you to build a tree of components that a renderer for the browser or another platform can use. `react-dom` is one such renderer and is aimed at browser environment and server-side rendering. The React Native libraries focus on native platforms and let you create React applications for IOS, Androd and other platforms.\n",
    "<img src=\"react-library-lifecycle.png\" style=\"width:80%\">\n"
   ]
  },
  {
   "cell_type": "markdown",
   "id": "246e55c7-86ff-48b2-a1e8-d3456048354f",
   "metadata": {},
   "source": [
    "## Virtual DOM\n",
    "React encourage managing components declaritively instead of imperatively. You declare how your components hould hehave and look under different states, and React's internal machinery handles the complexity of managing updates, updating the UI to reflect changes.\n",
    "\n",
    "The virtual DOM is a data structure or collection of data strucures the mimics or mirros the Document Object Model that exists in browsers. The virtual DOM serves as an intermediate layer between the application code and browser DOM. The virtual DOM allows the complexity of change detection and management to be hidden from the developera nd move to a specialize layer of abstraction.\n",
    "\n",
    "\n",
    "The Virtual DOM is a programming concept used in React to optimize UI updates. It acts as an in-memory, lightweight representation of the actual DOM (the structure that browsers use to render web pages).\n",
    "\n",
    "How it works:\n",
    "1. Initial Rendering: When you first load a React application, React creates a virtual representation of the UI in memory (the Virtual DOM) rather than directly interacting with the actual browser DOM.\n",
    "2. State or Prop Changes: When the state or props of a react component change, React creates a new Virtual DOM representing the updated UI.\n",
    "3. Diffing Algorithm: React compares the new Virtual DOM with the previous one using a process called \"reconciliation\" to detect what has changed. This comparison determines the \"diff\"--the minimal set of changes required to update the actual DOM.\n",
    "4. Efficient Updates: Based on the diff, React updates only the parts of the actual DOM that need to change, rather than re-rendering the entire UI. This makes updates more efficient, improving performance.\n",
    "\n",
    "The Virtual DOM optimizes performance by reducing the number of direct manipulations to the real DOM, which is gnerally slower due to its complex structure and rendering processes in the browser.\n",
    "\n",
    "In summary, the Virtual DOM helps manage changes in a web application efficiently by abstracting the process of updating the real DOM, ensuring smoother, faster UI updates."
   ]
  },
  {
   "cell_type": "markdown",
   "id": "cd24132f-4d17-4da2-a97b-f5dc355757c3",
   "metadata": {},
   "source": [
    "## The DOM\n",
    "The DOM (Document Object Model) is a programming interface for web documents. It represents the structure of an HTML or XML document as a tree of nodes, where each node is an object representing part of the document, such as elements, attributes, and text.\n",
    "\n",
    "Aspect of the DOM:\n",
    "1. Tree Structure: The DOM organizes an HTML documents into a tree structure, where each HTML element (like `<div>`, `<p>`, `<a>`) is  a node, and these nodes are connected in a hierarchical manner. For example, the `<body>` element contains child nodes like `<header>`, `<section>`, etc.\n",
    "2. Interactivity: The DOM allows programming languages (like JavaScrupt) to interract with and manipulate the document. You can add, remove, or modify elements dynamically, such as changing text content, applying styles, or responding to user inputs.\n",
    "3. Dynamic Changes: When you make changes to the DOM, they are reflected in the browser immediately. For example, adding a new HTML element or changing the content of a tag will update the webpage in real time.\n",
    "4. Event Handling: The DOM provides an event-driven model, where interactions like clicks, keypresses, or form submissions can trigger events, allowing you to define how the webpage should respond to user actions.\n",
    "\n",
    "In summary, the DOM is a structured interface that bridges the webpage's structure and the programming code, enabling dynamic manipulation of the document and making webpages interactive and responsive ot user behaviour."
   ]
  },
  {
   "cell_type": "code",
   "execution_count": null,
   "id": "fda69a67-282d-4bd8-8f27-dfad9f9de0d3",
   "metadata": {},
   "outputs": [],
   "source": []
  }
 ],
 "metadata": {
  "kernelspec": {
   "display_name": "JavaScript (Node.js)",
   "language": "javascript",
   "name": "javascript"
  },
  "language_info": {
   "file_extension": ".js",
   "mimetype": "application/javascript",
   "name": "javascript",
   "version": "20.9.0"
  }
 },
 "nbformat": 4,
 "nbformat_minor": 5
}
