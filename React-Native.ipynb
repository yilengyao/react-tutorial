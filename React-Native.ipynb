{
 "cells": [
  {
   "cell_type": "markdown",
   "id": "f6c6ef4f-1e81-4d62-bfb2-432c7b8f9ca5",
   "metadata": {},
   "source": [
    "# React Native\n",
    "React Native is an open-source framework for building native mobile application using JavaScript and React. It allows developers to create mobile apps for iOS, Android, and other platforms using a single codebase written primarily in JavaScript and JSX, the same syntax used in React for building web applications.\n",
    "\n",
    "Key Concepts\n",
    "- Write Once, Use Everywhere: While not strictly \"write once, run everywhere,\" React Native enables code reuse across platforms, reducing development time and effort.\n",
    "- Native Components: React Native uses native components under the hood, ensuring performance close to apps built with native languages like Swift or Java.\n",
    "- Hot Reloading: Developers can see changes in the app immediately after saying enhancing productivity.\n",
    "\n",
    "How React Native Works?<br>\n",
    "React Native bridges the gap between JavaScript code and native platform code. It runs JavaScript code in a separate thread and communicates with the native thread using a bridge.\n",
    "1. JavaScript Thread: Runs the React application code, handling business logic and UI declarations.\n",
    "2. Native Thread: Manages native UI componnents and handles rendering.\n",
    "3. Bridge: Facilitates communication between the JavaScript thread and the native thread asynchronously.\n",
    "\n",
    "## Core Components\n",
    "React Native provides a set of core components that map directly to native UI building blocks:\n",
    "- `View`: A container that supports layout with Flexbox, styling, and touch handling.\n",
    "- `Text`: Displays text with support for nesting, styling, and touch handling.\n",
    "- `Image`: Displays images from various sources.\n",
    "- `ScrollView`: A scrollable container that can hold multiple components and views.\n",
    "- `Touchable Components`: Interactive components like `TouchableOpacity`, `TouchableHighlight`, and `TouchableWithoutFeedback` for handling touch events.\n",
    "\n",
    "## CLI command\n",
    "Creating a New React Native Project\n",
    "```\n",
    "npx react-native init MyReactNativeApp\n",
    "```\n",
    "\n",
    "Running the App in an Android Simulator\n",
    "```\n",
    "npx react-native run-android\n",
    "```\n",
    "\n",
    "Running the App in iOS\n",
    "```\n",
    "npx react-native run-ios\n",
    "```\n"
   ]
  },
  {
   "cell_type": "markdown",
   "id": "f0062dde-031b-4de5-9e2f-ab5660eefa8f",
   "metadata": {},
   "source": [
    "# Native Components\n",
    "React Native has built-in components that are described as `native components` \n",
    "\n",
    "View is the most fundamentail building block for creating React Native components.\n",
    "\n",
    "|Component type|HTML|React Native JSX|\n",
    "|--|--|--|\n",
    "|Text|```<span>Hello World</span>```|```<Text>Hello World</Text>```|\n",
    "|View|```<div><span>Hello World 2</span></div>```|```<View><Text>Hello World 2</Text></View>```|\n",
    "|Touchable highlight|```<button><span>Hello World 2</span></button>```|```<TouchableHighlight><Text>Hello World 2</Text></TouchableHighlight>```|"
   ]
  },
  {
   "cell_type": "markdown",
   "id": "6005aa18-ce3a-4954-90fb-a7b98014af9d",
   "metadata": {},
   "source": [
    "\n",
    "React Native uses flexbox for laying out the UI."
   ]
  }
 ],
 "metadata": {
  "kernelspec": {
   "display_name": "Python 3 (ipykernel)",
   "language": "python",
   "name": "python3"
  },
  "language_info": {
   "codemirror_mode": {
    "name": "ipython",
    "version": 3
   },
   "file_extension": ".py",
   "mimetype": "text/x-python",
   "name": "python",
   "nbconvert_exporter": "python",
   "pygments_lexer": "ipython3",
   "version": "3.12.2"
  }
 },
 "nbformat": 4,
 "nbformat_minor": 5
}
